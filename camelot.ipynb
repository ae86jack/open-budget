{
 "cells": [
  {
   "cell_type": "code",
   "execution_count": 1,
   "metadata": {},
   "outputs": [],
   "source": [
    "import camelot\n",
    "import matplotlib\n",
    "import pandas as pd\n",
    "import numpy as np\n",
    "# set default figure size\n",
    "matplotlib.rcParams['figure.figsize'] = [20, 10]"
   ]
  },
  {
   "cell_type": "code",
   "execution_count": 2,
   "metadata": {},
   "outputs": [],
   "source": [
    "from pprint import pprint"
   ]
  },
  {
   "cell_type": "code",
   "execution_count": 3,
   "metadata": {},
   "outputs": [],
   "source": [
    "tables = camelot.read_pdf(\n",
    "    'pdf_files/jszwfw/江苏省人大办公厅/江苏省人大办公厅2017年度预算公开.pdf', pages='all', \n",
    "    layout_kwargs={\n",
    "        'char_margin': 1.0,\n",
    "        'line_margin': 0.5,\n",
    "        'word_margin': 0.1,\n",
    "        'detect_vertical': False\n",
    "    }, \n",
    "    copy_text=['h'], strip_text='\\n',\n",
    "    flavor='lattice', suppress_stdout=True)"
   ]
  },
  {
   "cell_type": "code",
   "execution_count": 4,
   "metadata": {},
   "outputs": [
    {
     "data": {
      "text/html": [
       "<div>\n",
       "<style scoped>\n",
       "    .dataframe tbody tr th:only-of-type {\n",
       "        vertical-align: middle;\n",
       "    }\n",
       "\n",
       "    .dataframe tbody tr th {\n",
       "        vertical-align: top;\n",
       "    }\n",
       "\n",
       "    .dataframe thead th {\n",
       "        text-align: right;\n",
       "    }\n",
       "</style>\n",
       "<table border=\"1\" class=\"dataframe\">\n",
       "  <thead>\n",
       "    <tr style=\"text-align: right;\">\n",
       "      <th></th>\n",
       "      <th>0</th>\n",
       "      <th>1</th>\n",
       "      <th>2</th>\n",
       "      <th>3</th>\n",
       "      <th>4</th>\n",
       "      <th>5</th>\n",
       "    </tr>\n",
       "  </thead>\n",
       "  <tbody>\n",
       "    <tr>\n",
       "      <th>0</th>\n",
       "      <td>收入</td>\n",
       "      <td>收入</td>\n",
       "      <td>支出</td>\n",
       "      <td>支出</td>\n",
       "      <td>支出</td>\n",
       "      <td>支出</td>\n",
       "    </tr>\n",
       "    <tr>\n",
       "      <th>1</th>\n",
       "      <td>项目名称</td>\n",
       "      <td>金额</td>\n",
       "      <td>功能分类</td>\n",
       "      <td>功能分类</td>\n",
       "      <td>支出用途</td>\n",
       "      <td>支出用途</td>\n",
       "    </tr>\n",
       "    <tr>\n",
       "      <th>2</th>\n",
       "      <td></td>\n",
       "      <td></td>\n",
       "      <td>功能科目名称</td>\n",
       "      <td>金额</td>\n",
       "      <td>项目名称</td>\n",
       "      <td>金额</td>\n",
       "    </tr>\n",
       "    <tr>\n",
       "      <th>3</th>\n",
       "      <td>一、财政拨款</td>\n",
       "      <td>13,649.07</td>\n",
       "      <td>一、一般公共服务支出</td>\n",
       "      <td>10,528.33</td>\n",
       "      <td>一、基本支出</td>\n",
       "      <td>7,666.68</td>\n",
       "    </tr>\n",
       "    <tr>\n",
       "      <th>4</th>\n",
       "      <td>1. 一 般 公共预算</td>\n",
       "      <td>13,649.07</td>\n",
       "      <td>二、外交支出</td>\n",
       "      <td></td>\n",
       "      <td>二、项目支出</td>\n",
       "      <td>5,853.96</td>\n",
       "    </tr>\n",
       "    <tr>\n",
       "      <th>5</th>\n",
       "      <td>2. 政 府 性基金预算</td>\n",
       "      <td></td>\n",
       "      <td>三、国防支出</td>\n",
       "      <td></td>\n",
       "      <td>三、单位预留机动经费</td>\n",
       "      <td>128.43</td>\n",
       "    </tr>\n",
       "    <tr>\n",
       "      <th>6</th>\n",
       "      <td>二、财政专户管理资金</td>\n",
       "      <td></td>\n",
       "      <td>四、公共安全支出</td>\n",
       "      <td></td>\n",
       "      <td></td>\n",
       "      <td></td>\n",
       "    </tr>\n",
       "    <tr>\n",
       "      <th>7</th>\n",
       "      <td>三、其他资金</td>\n",
       "      <td></td>\n",
       "      <td>五、教育支出</td>\n",
       "      <td></td>\n",
       "      <td></td>\n",
       "      <td></td>\n",
       "    </tr>\n",
       "    <tr>\n",
       "      <th>8</th>\n",
       "      <td></td>\n",
       "      <td></td>\n",
       "      <td>六、科学技术支出</td>\n",
       "      <td></td>\n",
       "      <td></td>\n",
       "      <td></td>\n",
       "    </tr>\n",
       "    <tr>\n",
       "      <th>9</th>\n",
       "      <td></td>\n",
       "      <td></td>\n",
       "      <td>七、文化体育与传媒支出</td>\n",
       "      <td></td>\n",
       "      <td></td>\n",
       "      <td></td>\n",
       "    </tr>\n",
       "    <tr>\n",
       "      <th>10</th>\n",
       "      <td></td>\n",
       "      <td></td>\n",
       "      <td>八、社会保障和就</td>\n",
       "      <td>1,608.51</td>\n",
       "      <td></td>\n",
       "      <td></td>\n",
       "    </tr>\n",
       "  </tbody>\n",
       "</table>\n",
       "</div>"
      ],
      "text/plain": [
       "               0          1            2          3           4         5\n",
       "0             收入         收入           支出         支出          支出        支出\n",
       "1           项目名称         金额         功能分类       功能分类        支出用途      支出用途\n",
       "2                                 功能科目名称         金额        项目名称        金额\n",
       "3         一、财政拨款  13,649.07   一、一般公共服务支出  10,528.33      一、基本支出  7,666.68\n",
       "4    1. 一 般 公共预算  13,649.07       二、外交支出                 二、项目支出  5,853.96\n",
       "5   2. 政 府 性基金预算                  三、国防支出             三、单位预留机动经费    128.43\n",
       "6     二、财政专户管理资金                四、公共安全支出                                 \n",
       "7         三、其他资金                  五、教育支出                                 \n",
       "8                               六、科学技术支出                                 \n",
       "9                            七、文化体育与传媒支出                                 \n",
       "10                              八、社会保障和就   1,608.51                      "
      ]
     },
     "execution_count": 4,
     "metadata": {},
     "output_type": "execute_result"
    }
   ],
   "source": [
    "tables[0].df"
   ]
  },
  {
   "cell_type": "code",
   "execution_count": 5,
   "metadata": {},
   "outputs": [
    {
     "data": {
      "image/png": "[encoded data removed]",
      "text/plain": [
       "<Figure size 1368x720 with 1 Axes>"
      ]
     },
     "metadata": {
      "needs_background": "light"
     },
     "output_type": "display_data"
    }
   ],
   "source": [
    "p_text = camelot.plot(tables[0], kind='text')\n",
    "p_text.set_size_inches(19, 10, forward=True)"
   ]
  },
  {
   "cell_type": "code",
   "execution_count": 6,
   "metadata": {},
   "outputs": [
    {
     "data": {
      "image/png": "[encoded data removed]",
      "text/plain": [
       "<Figure size 1368x720 with 1 Axes>"
      ]
     },
     "metadata": {
      "needs_background": "light"
     },
     "output_type": "display_data"
    }
   ],
   "source": [
    "p_grid = camelot.plot(tables[0], kind='grid')\n",
    "p_grid.set_size_inches(19, 10)"
   ]
  },
  {
   "cell_type": "code",
   "execution_count": 6,
   "metadata": {},
   "outputs": [
    {
     "data": {
      "image/png": "[encoded data removed]",
      "text/plain": [
       "<Figure size 1368x720 with 1 Axes>"
      ]
     },
     "metadata": {
      "needs_background": "light"
     },
     "output_type": "display_data"
    }
   ],
   "source": [
    "p_contour = camelot.plot(tables[0], kind='contour')\n",
    "p_contour.set_size_inches(19, 10)"
   ]
  },
  {
   "cell_type": "code",
   "execution_count": 7,
   "metadata": {},
   "outputs": [
    {
     "data": {
      "image/png": "[encoded data removed]",
      "text/plain": [
       "<Figure size 432x288 with 1 Axes>"
      ]
     },
     "execution_count": 7,
     "metadata": {},
     "output_type": "execute_result"
    },
    {
     "data": {
      "image/png": "[encoded data removed]",
      "text/plain": [
       "<Figure size 432x288 with 1 Axes>"
      ]
     },
     "metadata": {
      "needs_background": "light"
     },
     "output_type": "display_data"
    }
   ],
   "source": [
    "camelot.plot(tables[0], kind='joint')"
   ]
  },
  {
   "cell_type": "code",
   "execution_count": 8,
   "metadata": {},
   "outputs": [
    {
     "data": {
      "text/plain": [
       "{'accuracy': 99.74, 'whitespace': 40.91, 'order': 1, 'page': 7}"
      ]
     },
     "execution_count": 8,
     "metadata": {},
     "output_type": "execute_result"
    }
   ],
   "source": [
    "tables[0].parsing_report"
   ]
  }
 ],
 "metadata": {
  "kernelspec": {
   "display_name": "Python 3",
   "language": "python",
   "name": "python3"
  },
  "language_info": {
   "codemirror_mode": {
    "name": "ipython",
    "version": 3
   },
   "file_extension": ".py",
   "mimetype": "text/x-python",
   "name": "python",
   "nbconvert_exporter": "python",
   "pygments_lexer": "ipython3",
   "version": "3.7.3"
  }
 },
 "nbformat": 4,
 "nbformat_minor": 2
}
